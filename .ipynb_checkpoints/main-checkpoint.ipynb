{
 "cells": [
  {
   "cell_type": "code",
   "execution_count": 403,
   "metadata": {},
   "outputs": [],
   "source": [
    "import requests\n",
    "import numpy as np\n",
    "import matplotlib.pyplot as plt\n",
    "from datetime import date, timedelta, datetime\n"
   ]
  },
  {
   "cell_type": "code",
   "execution_count": 412,
   "metadata": {},
   "outputs": [
    {
     "name": "stdout",
     "output_type": "stream",
     "text": [
      "2021-04-20 day\n",
      "2021-04-21 day\n",
      "2021-04-22 day\n"
     ]
    }
   ],
   "source": [
    "api_key='1f3bb4f6de4f4a8e9a0776acff943430'\n",
    "desired_currency = 'SAR'\n",
    "sdate = date(2021, 4, 20)   # start date\n",
    "edate = date(2021, 4, 22)   # end date\n",
    "delta = edate - sdate       # as timedelta\\\n",
    "\n",
    "revenue_list_per_day = []\n",
    "day_list = []\n",
    "day\n",
    "for i in range(delta.days + 1):\n",
    "    day = sdate + timedelta(days=i)\n",
    "    day_list.append(day)\n",
    "    print(day, \"day\")\n",
    "    url = f'https://openexchangerates.org/api/historical/{day}.json'\n",
    "    response = requests.get(f'{url}?app_id={api_key}')\n",
    "    \n",
    "    exchange_rate = response.json()[\"rates\"][desired_currency]\n",
    "    revenue_list_per_day.append(exchange_rate)\n",
    "\n",
    "# print(array)"
   ]
  },
  {
   "cell_type": "code",
   "execution_count": 413,
   "metadata": {},
   "outputs": [
    {
     "name": "stdout",
     "output_type": "stream",
     "text": [
      "2021-04-22\n"
     ]
    }
   ],
   "source": [
    "print(day)\n",
    "# response_fifth_sar = requests.get(f'{url_fifth_sar}?app_id={api_key}')\n",
    "# response_fifth_usd = requests.get(f'{url_fifth_usd}?app_id={api_key}')\n",
    "# response_sixth_sar = requests.get(f'{url_sixth_sar}?app_id={api_key}')\n",
    "# response_sixth_usd = requests.get(f'{url_sixth_usd}?app_id={api_key}')\n",
    "# response_seventh_sar = requests.get(f'{url_seventh_sar}?app_id={api_key}')\n",
    "# response_seventh_usd = requests.get(f'{url_seventh_usd}?app_id={api_key}')"
   ]
  },
  {
   "cell_type": "code",
   "execution_count": 414,
   "metadata": {},
   "outputs": [],
   "source": [
    "# exchange_rate_fifth_sar = response_fifth_sar.json()[\"rates\"][\"SAR\"]\n",
    "# print(exchange_rate_fifth_sar)\n",
    "\n",
    "# exchange_rate_fifth_usd = response_fifth_usd.json()[\"rates\"][\"USD\"]\n",
    "# print(exchange_rate_fifth_usd)\n",
    "\n",
    "# exchange_rate_sixth_sar = response_sixth_sar.json()[\"rates\"][\"SAR\"]\n",
    "# print(exchange_rate_sixth_sar)\n",
    "\n",
    "# exchange_rate_sixth_usd = response_sixth_usd.json()[\"rates\"][\"USD\"]\n",
    "# print(exchange_rate_sixth_usd)\n",
    "\n",
    "# exchange_rate_seventh_sar = response_seventh_sar.json()[\"rates\"][\"SAR\"]\n",
    "# print(exchange_rate_seventh_sar)\n",
    "\n",
    "# exchange_rate_seventh_usd = response_seventh_usd.json()[\"rates\"][\"USD\"]\n",
    "# print(exchange_rate_seventh_usd)"
   ]
  },
  {
   "cell_type": "code",
   "execution_count": 407,
   "metadata": {},
   "outputs": [],
   "source": [
    "# usd = [exchange_rate_fifth_usd, exchange_rate_sixth_usd, exchange_rate_seventh_usd]\n",
    "# num = 9\n",
    "# sar = [exchange_rate_fifth_sar, exchange_rate_sixth_sar, exchange_rate_seventh_sar, num]\n",
    "# # sar = [exchange_rate_fifth_sar, exchange_rate_sixth_sar, exchange_rate_seventh_sar]\n",
    "\n",
    "\n",
    "# labels = [\"May\", \"June\", \"July\", \"August\"]\n"
   ]
  },
  {
   "cell_type": "code",
   "execution_count": 410,
   "metadata": {},
   "outputs": [
    {
     "data": {
      "image/png": "[encoded data removed]",
      "text/plain": [
       "<Figure size 432x288 with 1 Axes>"
      ]
     },
     "metadata": {
      "needs_background": "light"
     },
     "output_type": "display_data"
    }
   ],
   "source": [
    "# the label locations\n",
    "x = np.arange(len(day_list))\n",
    "# the width of the bars\n",
    "width = 0.35\n",
    "fig, ax = plt.subplots()\n",
    "rects2 = ax.bar(x + width/20, revenue_list_per_day, width)\n",
    "\n",
    "# Add some text for labels, title and custom x-axis tick labels, etc.\n",
    "ax.set_ylabel('Exchange from USD to SAR')\n",
    "ax.set_title('USD to SAR')\n",
    "ax.set_xticks(x)\n",
    "ax.set_xticklabels(day_list)\n",
    "# ax.legend()\n",
    "# ax.plot(x, y)\n",
    "\n",
    "\"\"\"Put the price top of the bar\"\"\"\n",
    "ax.bar_label(rects2)\n",
    "\n",
    "plt.show()\n",
    "\n",
    "\n",
    "\n"
   ]
  },
  {
   "cell_type": "code",
   "execution_count": null,
   "metadata": {},
   "outputs": [],
   "source": [
    "# fig = plt.figure()\n",
    "# # plt.xticks(ticks, labels)\n",
    "\n",
    "# ax = fig.add_subplot(111)\n",
    "# ax.plot(t_list,usd,linestyle='-')\n",
    "# ax.plot(t_list,sar,linestyle='---')\n",
    "# ax.set_yticks(usd+sar)\n",
    "# ax.set_yticklabels([ \"Month + \" + str(y) for y in usd+sar])\n",
    "# plt.show() \n"
   ]
  },
  {
   "cell_type": "code",
   "execution_count": null,
   "metadata": {},
   "outputs": [],
   "source": [
    "xpoints = np.array(day_array)\n",
    "ypoints = np.array(x)\n",
    "plt.plot(xpoints, ypoints)\n",
    "plt.show()"
   ]
  },
  {
   "cell_type": "code",
   "execution_count": null,
   "metadata": {},
   "outputs": [],
   "source": []
  },
  {
   "cell_type": "code",
   "execution_count": null,
   "metadata": {},
   "outputs": [],
   "source": []
  }
 ],
 "metadata": {
  "kernelspec": {
   "display_name": "Python 3",
   "language": "python",
   "name": "python3"
  },
  "language_info": {
   "codemirror_mode": {
    "name": "ipython",
    "version": 3
   },
   "file_extension": ".py",
   "mimetype": "text/x-python",
   "name": "python",
   "nbconvert_exporter": "python",
   "pygments_lexer": "ipython3",
   "version": "3.9.6"
  }
 },
 "nbformat": 4,
 "nbformat_minor": 4
}
